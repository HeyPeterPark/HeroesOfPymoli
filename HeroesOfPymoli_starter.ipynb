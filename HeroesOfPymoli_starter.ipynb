{
 "cells": [
  {
   "cell_type": "code",
   "execution_count": 11,
   "metadata": {},
   "outputs": [
    {
     "data": {
      "text/html": [
       "<div>\n",
       "<style scoped>\n",
       "    .dataframe tbody tr th:only-of-type {\n",
       "        vertical-align: middle;\n",
       "    }\n",
       "\n",
       "    .dataframe tbody tr th {\n",
       "        vertical-align: top;\n",
       "    }\n",
       "\n",
       "    .dataframe thead th {\n",
       "        text-align: right;\n",
       "    }\n",
       "</style>\n",
       "<table border=\"1\" class=\"dataframe\">\n",
       "  <thead>\n",
       "    <tr style=\"text-align: right;\">\n",
       "      <th></th>\n",
       "      <th>Purchase ID</th>\n",
       "      <th>SN</th>\n",
       "      <th>Age</th>\n",
       "      <th>Gender</th>\n",
       "      <th>Item ID</th>\n",
       "      <th>Item Name</th>\n",
       "      <th>Price</th>\n",
       "    </tr>\n",
       "  </thead>\n",
       "  <tbody>\n",
       "    <tr>\n",
       "      <th>0</th>\n",
       "      <td>0</td>\n",
       "      <td>Lisim78</td>\n",
       "      <td>20</td>\n",
       "      <td>Male</td>\n",
       "      <td>108</td>\n",
       "      <td>Extraction, Quickblade Of Trembling Hands</td>\n",
       "      <td>3.53</td>\n",
       "    </tr>\n",
       "    <tr>\n",
       "      <th>1</th>\n",
       "      <td>1</td>\n",
       "      <td>Lisovynya38</td>\n",
       "      <td>40</td>\n",
       "      <td>Male</td>\n",
       "      <td>143</td>\n",
       "      <td>Frenzied Scimitar</td>\n",
       "      <td>1.56</td>\n",
       "    </tr>\n",
       "    <tr>\n",
       "      <th>2</th>\n",
       "      <td>2</td>\n",
       "      <td>Ithergue48</td>\n",
       "      <td>24</td>\n",
       "      <td>Male</td>\n",
       "      <td>92</td>\n",
       "      <td>Final Critic</td>\n",
       "      <td>4.88</td>\n",
       "    </tr>\n",
       "    <tr>\n",
       "      <th>3</th>\n",
       "      <td>3</td>\n",
       "      <td>Chamassasya86</td>\n",
       "      <td>24</td>\n",
       "      <td>Male</td>\n",
       "      <td>100</td>\n",
       "      <td>Blindscythe</td>\n",
       "      <td>3.27</td>\n",
       "    </tr>\n",
       "    <tr>\n",
       "      <th>4</th>\n",
       "      <td>4</td>\n",
       "      <td>Iskosia90</td>\n",
       "      <td>23</td>\n",
       "      <td>Male</td>\n",
       "      <td>131</td>\n",
       "      <td>Fury</td>\n",
       "      <td>1.44</td>\n",
       "    </tr>\n",
       "  </tbody>\n",
       "</table>\n",
       "</div>"
      ],
      "text/plain": [
       "   Purchase ID             SN  Age Gender  Item ID  \\\n",
       "0            0        Lisim78   20   Male      108   \n",
       "1            1    Lisovynya38   40   Male      143   \n",
       "2            2     Ithergue48   24   Male       92   \n",
       "3            3  Chamassasya86   24   Male      100   \n",
       "4            4      Iskosia90   23   Male      131   \n",
       "\n",
       "                                   Item Name  Price  \n",
       "0  Extraction, Quickblade Of Trembling Hands   3.53  \n",
       "1                          Frenzied Scimitar   1.56  \n",
       "2                               Final Critic   4.88  \n",
       "3                                Blindscythe   3.27  \n",
       "4                                       Fury   1.44  "
      ]
     },
     "execution_count": 11,
     "metadata": {},
     "output_type": "execute_result"
    }
   ],
   "source": [
    "import pandas as pd\n",
    "import numpy as np\n",
    "\n",
    "file_to_load = \"Resources/purchase_data.csv\"\n",
    "\n",
    "purchase_data = pd.read_csv(file_to_load)\n",
    "purchase_data.head()"
   ]
  },
  {
   "cell_type": "markdown",
   "metadata": {},
   "source": [
    "## Player Count"
   ]
  },
  {
   "cell_type": "markdown",
   "metadata": {},
   "source": [
    "* Display the total number of players\n"
   ]
  },
  {
   "cell_type": "code",
   "execution_count": 2,
   "metadata": {},
   "outputs": [
    {
     "data": {
      "text/html": [
       "<div>\n",
       "<style scoped>\n",
       "    .dataframe tbody tr th:only-of-type {\n",
       "        vertical-align: middle;\n",
       "    }\n",
       "\n",
       "    .dataframe tbody tr th {\n",
       "        vertical-align: top;\n",
       "    }\n",
       "\n",
       "    .dataframe thead th {\n",
       "        text-align: right;\n",
       "    }\n",
       "</style>\n",
       "<table border=\"1\" class=\"dataframe\">\n",
       "  <thead>\n",
       "    <tr style=\"text-align: right;\">\n",
       "      <th></th>\n",
       "      <th>Total Players</th>\n",
       "    </tr>\n",
       "  </thead>\n",
       "  <tbody>\n",
       "    <tr>\n",
       "      <th>0</th>\n",
       "      <td>576</td>\n",
       "    </tr>\n",
       "  </tbody>\n",
       "</table>\n",
       "</div>"
      ],
      "text/plain": [
       "   Total Players\n",
       "0            576"
      ]
     },
     "execution_count": 2,
     "metadata": {},
     "output_type": "execute_result"
    }
   ],
   "source": [
    "total_players = purchase_data['SN'].nunique()\n",
    "pd.DataFrame([{\"Total Players\" : total_players\n",
    "}])"
   ]
  },
  {
   "cell_type": "markdown",
   "metadata": {},
   "source": [
    "## Purchasing Analysis (Total)"
   ]
  },
  {
   "cell_type": "markdown",
   "metadata": {},
   "source": [
    "* Run basic calculations to obtain number of unique items, average price, etc.\n",
    "\n",
    "* Create a summary data frame to hold the results\n",
    "\n",
    "* Optional: give the displayed data cleaner formatting\n",
    "\n",
    "* Display the summary data frame"
   ]
  },
  {
   "cell_type": "code",
   "execution_count": 3,
   "metadata": {
    "scrolled": true
   },
   "outputs": [
    {
     "data": {
      "text/html": [
       "<style  type=\"text/css\" >\n",
       "</style><table id=\"T_78233590_8d40_11e9_b200_d8c4979ea1df\" ><thead>    <tr>        <th class=\"blank level0\" ></th>        <th class=\"col_heading level0 col0\" >Number of Unique Items</th>        <th class=\"col_heading level0 col1\" >Average Price</th>        <th class=\"col_heading level0 col2\" >Number of Purchases</th>        <th class=\"col_heading level0 col3\" >Total Revenue</th>    </tr></thead><tbody>\n",
       "                <tr>\n",
       "                        <th id=\"T_78233590_8d40_11e9_b200_d8c4979ea1dflevel0_row0\" class=\"row_heading level0 row0\" >0</th>\n",
       "                        <td id=\"T_78233590_8d40_11e9_b200_d8c4979ea1dfrow0_col0\" class=\"data row0 col0\" >183</td>\n",
       "                        <td id=\"T_78233590_8d40_11e9_b200_d8c4979ea1dfrow0_col1\" class=\"data row0 col1\" >$3.05</td>\n",
       "                        <td id=\"T_78233590_8d40_11e9_b200_d8c4979ea1dfrow0_col2\" class=\"data row0 col2\" >780</td>\n",
       "                        <td id=\"T_78233590_8d40_11e9_b200_d8c4979ea1dfrow0_col3\" class=\"data row0 col3\" >$2,379.77</td>\n",
       "            </tr>\n",
       "    </tbody></table>"
      ],
      "text/plain": [
       "<pandas.io.formats.style.Styler at 0x1ce68021e10>"
      ]
     },
     "execution_count": 3,
     "metadata": {},
     "output_type": "execute_result"
    }
   ],
   "source": [
    "unique_items = purchase_data['Item ID'].nunique()\n",
    "avg_price = purchase_data['Price'].mean()\n",
    "num_purch = purchase_data['Item ID'].count()\n",
    "total_rev = purchase_data['Price'].sum()\n",
    "\n",
    "purch_table_df = pd.DataFrame([{\"Number of Unique Items\": unique_items, \n",
    "                             \"Average Price\": avg_price, \n",
    "                             \"Number of Purchases\": num_purch, \n",
    "                             \"Total Revenue\": total_rev\n",
    "}])\n",
    "\n",
    "purch_table_df = purch_table_df[[\"Number of Unique Items\", \n",
    "                                \"Average Price\", \n",
    "                                \"Number of Purchases\", \n",
    "                                \"Total Revenue\"\n",
    "]]\n",
    "\n",
    "#formatting\n",
    "purch_table_df.style.format({\"Average Price\": \"${:,.2f}\",\n",
    "                            \"Total Revenue\": '${:,.2f}'\n",
    "})"
   ]
  },
  {
   "cell_type": "markdown",
   "metadata": {},
   "source": [
    "## Purchasing Analysis (Total)"
   ]
  },
  {
   "cell_type": "markdown",
   "metadata": {},
   "source": [
    "* Percentage and Count of Male Players\n",
    "\n",
    "\n",
    "* Percentage and Count of Female Players\n",
    "\n",
    "\n",
    "* Percentage and Count of Other / Non-Disclosed\n",
    "\n",
    "\n"
   ]
  },
  {
   "cell_type": "code",
   "execution_count": 4,
   "metadata": {},
   "outputs": [
    {
     "data": {
      "text/html": [
       "<style  type=\"text/css\" >\n",
       "</style><table id=\"T_794c76ac_8d40_11e9_b153_d8c4979ea1df\" ><thead>    <tr>        <th class=\"blank level0\" ></th>        <th class=\"col_heading level0 col0\" >Total Count</th>        <th class=\"col_heading level0 col1\" >Percentage of Players</th>    </tr></thead><tbody>\n",
       "                <tr>\n",
       "                        <th id=\"T_794c76ac_8d40_11e9_b153_d8c4979ea1dflevel0_row0\" class=\"row_heading level0 row0\" >Male</th>\n",
       "                        <td id=\"T_794c76ac_8d40_11e9_b153_d8c4979ea1dfrow0_col0\" class=\"data row0 col0\" >484</td>\n",
       "                        <td id=\"T_794c76ac_8d40_11e9_b153_d8c4979ea1dfrow0_col1\" class=\"data row0 col1\" >84.03%</td>\n",
       "            </tr>\n",
       "            <tr>\n",
       "                        <th id=\"T_794c76ac_8d40_11e9_b153_d8c4979ea1dflevel0_row1\" class=\"row_heading level0 row1\" >Female</th>\n",
       "                        <td id=\"T_794c76ac_8d40_11e9_b153_d8c4979ea1dfrow1_col0\" class=\"data row1 col0\" >81</td>\n",
       "                        <td id=\"T_794c76ac_8d40_11e9_b153_d8c4979ea1dfrow1_col1\" class=\"data row1 col1\" >14.06%</td>\n",
       "            </tr>\n",
       "            <tr>\n",
       "                        <th id=\"T_794c76ac_8d40_11e9_b153_d8c4979ea1dflevel0_row2\" class=\"row_heading level0 row2\" >Other / Non-Disclosed</th>\n",
       "                        <td id=\"T_794c76ac_8d40_11e9_b153_d8c4979ea1dfrow2_col0\" class=\"data row2 col0\" >11</td>\n",
       "                        <td id=\"T_794c76ac_8d40_11e9_b153_d8c4979ea1dfrow2_col1\" class=\"data row2 col1\" >1.91%</td>\n",
       "            </tr>\n",
       "    </tbody></table>"
      ],
      "text/plain": [
       "<pandas.io.formats.style.Styler at 0x1ce6804de80>"
      ]
     },
     "execution_count": 4,
     "metadata": {},
     "output_type": "execute_result"
    }
   ],
   "source": [
    "#576 unique players\n",
    "\n",
    "gender_groupby_df = purchase_data.groupby(\"Gender\")\n",
    "gender_count_net = gender_groupby_df.nunique()[\"SN\"]\n",
    "gender_percent = gender_count_net / total_players\n",
    "\n",
    "gender_count_df = pd.DataFrame({\"Total Count\": gender_count_net, \n",
    "                                \"Percentage of Players\": gender_percent\n",
    "})\n",
    "\n",
    "#formatting\n",
    "gender_count_df.index.name = None\n",
    "\n",
    "gender_count_df_clean = gender_count_df.sort_values(by = \"Total Count\", ascending = False) \n",
    "\n",
    "gender_count_df_clean.style.format({\"Percentage of Players\": \"{:,.2%}\"\n",
    "})"
   ]
  },
  {
   "cell_type": "markdown",
   "metadata": {},
   "source": [
    "\n",
    "## Purchasing Analysis (Gender)"
   ]
  },
  {
   "cell_type": "markdown",
   "metadata": {},
   "source": [
    "* Run basic calculations to obtain purchase count, avg. purchase price, avg. purchase total per person etc. by gender\n",
    "\n",
    "\n",
    "\n",
    "\n",
    "* Create a summary data frame to hold the results\n",
    "\n",
    "\n",
    "* Optional: give the displayed data cleaner formatting\n",
    "\n",
    "\n",
    "* Display the summary data frame"
   ]
  },
  {
   "cell_type": "code",
   "execution_count": 5,
   "metadata": {},
   "outputs": [
    {
     "data": {
      "text/html": [
       "<style  type=\"text/css\" >\n",
       "</style><table id=\"T_7a7708ec_8d40_11e9_b6f4_d8c4979ea1df\" ><thead>    <tr>        <th class=\"blank level0\" ></th>        <th class=\"col_heading level0 col0\" >Purchase Count</th>        <th class=\"col_heading level0 col1\" >Average Purchase Price</th>        <th class=\"col_heading level0 col2\" >Total Purchase Value</th>        <th class=\"col_heading level0 col3\" >Avg Total Purchase per Person</th>    </tr></thead><tbody>\n",
       "                <tr>\n",
       "                        <th id=\"T_7a7708ec_8d40_11e9_b6f4_d8c4979ea1dflevel0_row0\" class=\"row_heading level0 row0\" >Male</th>\n",
       "                        <td id=\"T_7a7708ec_8d40_11e9_b6f4_d8c4979ea1dfrow0_col0\" class=\"data row0 col0\" >652</td>\n",
       "                        <td id=\"T_7a7708ec_8d40_11e9_b6f4_d8c4979ea1dfrow0_col1\" class=\"data row0 col1\" >$3.02</td>\n",
       "                        <td id=\"T_7a7708ec_8d40_11e9_b6f4_d8c4979ea1dfrow0_col2\" class=\"data row0 col2\" >$1,967.64</td>\n",
       "                        <td id=\"T_7a7708ec_8d40_11e9_b6f4_d8c4979ea1dfrow0_col3\" class=\"data row0 col3\" >$4.07</td>\n",
       "            </tr>\n",
       "            <tr>\n",
       "                        <th id=\"T_7a7708ec_8d40_11e9_b6f4_d8c4979ea1dflevel0_row1\" class=\"row_heading level0 row1\" >Female</th>\n",
       "                        <td id=\"T_7a7708ec_8d40_11e9_b6f4_d8c4979ea1dfrow1_col0\" class=\"data row1 col0\" >113</td>\n",
       "                        <td id=\"T_7a7708ec_8d40_11e9_b6f4_d8c4979ea1dfrow1_col1\" class=\"data row1 col1\" >$3.20</td>\n",
       "                        <td id=\"T_7a7708ec_8d40_11e9_b6f4_d8c4979ea1dfrow1_col2\" class=\"data row1 col2\" >$361.94</td>\n",
       "                        <td id=\"T_7a7708ec_8d40_11e9_b6f4_d8c4979ea1dfrow1_col3\" class=\"data row1 col3\" >$4.47</td>\n",
       "            </tr>\n",
       "            <tr>\n",
       "                        <th id=\"T_7a7708ec_8d40_11e9_b6f4_d8c4979ea1dflevel0_row2\" class=\"row_heading level0 row2\" >Other / Non-Disclosed</th>\n",
       "                        <td id=\"T_7a7708ec_8d40_11e9_b6f4_d8c4979ea1dfrow2_col0\" class=\"data row2 col0\" >15</td>\n",
       "                        <td id=\"T_7a7708ec_8d40_11e9_b6f4_d8c4979ea1dfrow2_col1\" class=\"data row2 col1\" >$3.35</td>\n",
       "                        <td id=\"T_7a7708ec_8d40_11e9_b6f4_d8c4979ea1dfrow2_col2\" class=\"data row2 col2\" >$50.19</td>\n",
       "                        <td id=\"T_7a7708ec_8d40_11e9_b6f4_d8c4979ea1dfrow2_col3\" class=\"data row2 col3\" >$4.56</td>\n",
       "            </tr>\n",
       "    </tbody></table>"
      ],
      "text/plain": [
       "<pandas.io.formats.style.Styler at 0x1ce68072320>"
      ]
     },
     "execution_count": 5,
     "metadata": {},
     "output_type": "execute_result"
    }
   ],
   "source": [
    "purch_gender_count= gender_groupby_df[\"Purchase ID\"].count()\n",
    "purch_gender_avg = gender_groupby_df[\"Price\"].mean()\n",
    "purch_gender_total = gender_groupby_df[\"Price\"].sum()\n",
    "purch_gender_avg_person = purch_gender_total / gender_count_net\n",
    "\n",
    "purch_gender_df = pd.DataFrame({\"Purchase Count\": purch_gender_count, \n",
    "                                \"Average Purchase Price\": purch_gender_avg,\n",
    "                                \"Total Purchase Value\": purch_gender_total,\n",
    "                                \"Avg Total Purchase per Person\": purch_gender_avg_person\n",
    "})\n",
    "\n",
    "#formatting\n",
    "purch_gender_df_clean = purch_gender_df.sort_values(by = \"Purchase Count\", ascending = False) \n",
    "\n",
    "purch_gender_df_clean.style.format({\"Total Purchase Value\": \"${:,.2f}\",\n",
    "                                    \"Average Purchase Price\": \"${:,.2f}\",\n",
    "                                    \"Avg Total Purchase per Person\": \"${:,.2f}\"\n",
    "})"
   ]
  },
  {
   "cell_type": "markdown",
   "metadata": {},
   "source": [
    "## Age Demographics"
   ]
  },
  {
   "cell_type": "markdown",
   "metadata": {},
   "source": [
    "* Establish bins for ages\n",
    "\n",
    "\n",
    "* Categorize the existing players using the age bins. Hint: use pd.cut()\n",
    "\n",
    "\n",
    "* Calculate the numbers and percentages by age group\n",
    "\n",
    "\n",
    "* Create a summary data frame to hold the results\n",
    "\n",
    "\n",
    "* Optional: round the percentage column to two decimal points\n",
    "\n",
    "\n",
    "* Display Age Demographics Table\n"
   ]
  },
  {
   "cell_type": "code",
   "execution_count": 6,
   "metadata": {},
   "outputs": [
    {
     "data": {
      "text/html": [
       "<style  type=\"text/css\" >\n",
       "</style><table id=\"T_7bb9c798_8d40_11e9_a9f8_d8c4979ea1df\" ><thead>    <tr>        <th class=\"blank level0\" ></th>        <th class=\"col_heading level0 col0\" >Total Count</th>        <th class=\"col_heading level0 col1\" >Percentage of Players</th>    </tr>    <tr>        <th class=\"index_name level0\" >Age Group</th>        <th class=\"blank\" ></th>        <th class=\"blank\" ></th>    </tr></thead><tbody>\n",
       "                <tr>\n",
       "                        <th id=\"T_7bb9c798_8d40_11e9_a9f8_d8c4979ea1dflevel0_row0\" class=\"row_heading level0 row0\" ><10</th>\n",
       "                        <td id=\"T_7bb9c798_8d40_11e9_a9f8_d8c4979ea1dfrow0_col0\" class=\"data row0 col0\" >17</td>\n",
       "                        <td id=\"T_7bb9c798_8d40_11e9_a9f8_d8c4979ea1dfrow0_col1\" class=\"data row0 col1\" >2.95%</td>\n",
       "            </tr>\n",
       "            <tr>\n",
       "                        <th id=\"T_7bb9c798_8d40_11e9_a9f8_d8c4979ea1dflevel0_row1\" class=\"row_heading level0 row1\" >10-14</th>\n",
       "                        <td id=\"T_7bb9c798_8d40_11e9_a9f8_d8c4979ea1dfrow1_col0\" class=\"data row1 col0\" >22</td>\n",
       "                        <td id=\"T_7bb9c798_8d40_11e9_a9f8_d8c4979ea1dfrow1_col1\" class=\"data row1 col1\" >3.82%</td>\n",
       "            </tr>\n",
       "            <tr>\n",
       "                        <th id=\"T_7bb9c798_8d40_11e9_a9f8_d8c4979ea1dflevel0_row2\" class=\"row_heading level0 row2\" >15-19</th>\n",
       "                        <td id=\"T_7bb9c798_8d40_11e9_a9f8_d8c4979ea1dfrow2_col0\" class=\"data row2 col0\" >107</td>\n",
       "                        <td id=\"T_7bb9c798_8d40_11e9_a9f8_d8c4979ea1dfrow2_col1\" class=\"data row2 col1\" >18.58%</td>\n",
       "            </tr>\n",
       "            <tr>\n",
       "                        <th id=\"T_7bb9c798_8d40_11e9_a9f8_d8c4979ea1dflevel0_row3\" class=\"row_heading level0 row3\" >20-24</th>\n",
       "                        <td id=\"T_7bb9c798_8d40_11e9_a9f8_d8c4979ea1dfrow3_col0\" class=\"data row3 col0\" >258</td>\n",
       "                        <td id=\"T_7bb9c798_8d40_11e9_a9f8_d8c4979ea1dfrow3_col1\" class=\"data row3 col1\" >44.79%</td>\n",
       "            </tr>\n",
       "            <tr>\n",
       "                        <th id=\"T_7bb9c798_8d40_11e9_a9f8_d8c4979ea1dflevel0_row4\" class=\"row_heading level0 row4\" >25-29</th>\n",
       "                        <td id=\"T_7bb9c798_8d40_11e9_a9f8_d8c4979ea1dfrow4_col0\" class=\"data row4 col0\" >77</td>\n",
       "                        <td id=\"T_7bb9c798_8d40_11e9_a9f8_d8c4979ea1dfrow4_col1\" class=\"data row4 col1\" >13.37%</td>\n",
       "            </tr>\n",
       "            <tr>\n",
       "                        <th id=\"T_7bb9c798_8d40_11e9_a9f8_d8c4979ea1dflevel0_row5\" class=\"row_heading level0 row5\" >30-34</th>\n",
       "                        <td id=\"T_7bb9c798_8d40_11e9_a9f8_d8c4979ea1dfrow5_col0\" class=\"data row5 col0\" >52</td>\n",
       "                        <td id=\"T_7bb9c798_8d40_11e9_a9f8_d8c4979ea1dfrow5_col1\" class=\"data row5 col1\" >9.03%</td>\n",
       "            </tr>\n",
       "            <tr>\n",
       "                        <th id=\"T_7bb9c798_8d40_11e9_a9f8_d8c4979ea1dflevel0_row6\" class=\"row_heading level0 row6\" >35-39</th>\n",
       "                        <td id=\"T_7bb9c798_8d40_11e9_a9f8_d8c4979ea1dfrow6_col0\" class=\"data row6 col0\" >31</td>\n",
       "                        <td id=\"T_7bb9c798_8d40_11e9_a9f8_d8c4979ea1dfrow6_col1\" class=\"data row6 col1\" >5.38%</td>\n",
       "            </tr>\n",
       "            <tr>\n",
       "                        <th id=\"T_7bb9c798_8d40_11e9_a9f8_d8c4979ea1dflevel0_row7\" class=\"row_heading level0 row7\" >40+</th>\n",
       "                        <td id=\"T_7bb9c798_8d40_11e9_a9f8_d8c4979ea1dfrow7_col0\" class=\"data row7 col0\" >12</td>\n",
       "                        <td id=\"T_7bb9c798_8d40_11e9_a9f8_d8c4979ea1dfrow7_col1\" class=\"data row7 col1\" >2.08%</td>\n",
       "            </tr>\n",
       "    </tbody></table>"
      ],
      "text/plain": [
       "<pandas.io.formats.style.Styler at 0x1ce68def400>"
      ]
     },
     "execution_count": 6,
     "metadata": {},
     "output_type": "execute_result"
    }
   ],
   "source": [
    "#age demo, 8 bins + 1 for 0\n",
    "\n",
    "age_bins = [0, 9.99, 14.99, 19.99, 24.99, 29.99, 34.99, 39.99, 999]\n",
    "age_ranges = [\"<10\", \"10-14\", \"15-19\", \"20-24\", \"25-29\", \"30-34\", \"35-39\", \"40+\"]\n",
    "\n",
    "purchase_data[\"Age Group\"] = pd.cut(purchase_data[\"Age\"], age_bins, labels = age_ranges)\n",
    "\n",
    "age_groupby = purchase_data.groupby(\"Age Group\")\n",
    "age_count_net = age_groupby[\"SN\"].nunique()\n",
    "age_percent = age_count_net / total_players\n",
    "\n",
    "age_df = pd.DataFrame({\"Total Count\": age_count_net, \n",
    "                        \"Percentage of Players\": age_percent\n",
    "})\n",
    "\n",
    "#formatting\n",
    "age_df.style.format({\"Percentage of Players\": \"{:,.2%}\"\n",
    "})"
   ]
  },
  {
   "cell_type": "markdown",
   "metadata": {},
   "source": [
    "## Purchasing Analysis (Age)"
   ]
  },
  {
   "cell_type": "markdown",
   "metadata": {},
   "source": [
    "* Bin the purchase_data data frame by age\n",
    "\n",
    "\n",
    "* Run basic calculations to obtain purchase count, avg. purchase price, avg. purchase total per person etc. in the table below\n",
    "\n",
    "\n",
    "* Create a summary data frame to hold the results\n",
    "\n",
    "\n",
    "* Optional: give the displayed data cleaner formatting\n",
    "\n",
    "\n",
    "* Display the summary data frame"
   ]
  },
  {
   "cell_type": "code",
   "execution_count": 7,
   "metadata": {},
   "outputs": [
    {
     "data": {
      "text/html": [
       "<style  type=\"text/css\" >\n",
       "</style><table id=\"T_7ce65b08_8d40_11e9_83df_d8c4979ea1df\" ><thead>    <tr>        <th class=\"blank level0\" ></th>        <th class=\"col_heading level0 col0\" >Purchase Count</th>        <th class=\"col_heading level0 col1\" >Average Purchase Price</th>        <th class=\"col_heading level0 col2\" >Total Purchase Value</th>        <th class=\"col_heading level0 col3\" >Avg Total Purchase per Person</th>    </tr>    <tr>        <th class=\"index_name level0\" >Age Group</th>        <th class=\"blank\" ></th>        <th class=\"blank\" ></th>        <th class=\"blank\" ></th>        <th class=\"blank\" ></th>    </tr></thead><tbody>\n",
       "                <tr>\n",
       "                        <th id=\"T_7ce65b08_8d40_11e9_83df_d8c4979ea1dflevel0_row0\" class=\"row_heading level0 row0\" ><10</th>\n",
       "                        <td id=\"T_7ce65b08_8d40_11e9_83df_d8c4979ea1dfrow0_col0\" class=\"data row0 col0\" >23</td>\n",
       "                        <td id=\"T_7ce65b08_8d40_11e9_83df_d8c4979ea1dfrow0_col1\" class=\"data row0 col1\" >$3.35</td>\n",
       "                        <td id=\"T_7ce65b08_8d40_11e9_83df_d8c4979ea1dfrow0_col2\" class=\"data row0 col2\" >$77.13</td>\n",
       "                        <td id=\"T_7ce65b08_8d40_11e9_83df_d8c4979ea1dfrow0_col3\" class=\"data row0 col3\" >$4.54</td>\n",
       "            </tr>\n",
       "            <tr>\n",
       "                        <th id=\"T_7ce65b08_8d40_11e9_83df_d8c4979ea1dflevel0_row1\" class=\"row_heading level0 row1\" >10-14</th>\n",
       "                        <td id=\"T_7ce65b08_8d40_11e9_83df_d8c4979ea1dfrow1_col0\" class=\"data row1 col0\" >28</td>\n",
       "                        <td id=\"T_7ce65b08_8d40_11e9_83df_d8c4979ea1dfrow1_col1\" class=\"data row1 col1\" >$2.96</td>\n",
       "                        <td id=\"T_7ce65b08_8d40_11e9_83df_d8c4979ea1dfrow1_col2\" class=\"data row1 col2\" >$82.78</td>\n",
       "                        <td id=\"T_7ce65b08_8d40_11e9_83df_d8c4979ea1dfrow1_col3\" class=\"data row1 col3\" >$3.76</td>\n",
       "            </tr>\n",
       "            <tr>\n",
       "                        <th id=\"T_7ce65b08_8d40_11e9_83df_d8c4979ea1dflevel0_row2\" class=\"row_heading level0 row2\" >15-19</th>\n",
       "                        <td id=\"T_7ce65b08_8d40_11e9_83df_d8c4979ea1dfrow2_col0\" class=\"data row2 col0\" >136</td>\n",
       "                        <td id=\"T_7ce65b08_8d40_11e9_83df_d8c4979ea1dfrow2_col1\" class=\"data row2 col1\" >$3.04</td>\n",
       "                        <td id=\"T_7ce65b08_8d40_11e9_83df_d8c4979ea1dfrow2_col2\" class=\"data row2 col2\" >$412.89</td>\n",
       "                        <td id=\"T_7ce65b08_8d40_11e9_83df_d8c4979ea1dfrow2_col3\" class=\"data row2 col3\" >$3.86</td>\n",
       "            </tr>\n",
       "            <tr>\n",
       "                        <th id=\"T_7ce65b08_8d40_11e9_83df_d8c4979ea1dflevel0_row3\" class=\"row_heading level0 row3\" >20-24</th>\n",
       "                        <td id=\"T_7ce65b08_8d40_11e9_83df_d8c4979ea1dfrow3_col0\" class=\"data row3 col0\" >365</td>\n",
       "                        <td id=\"T_7ce65b08_8d40_11e9_83df_d8c4979ea1dfrow3_col1\" class=\"data row3 col1\" >$3.05</td>\n",
       "                        <td id=\"T_7ce65b08_8d40_11e9_83df_d8c4979ea1dfrow3_col2\" class=\"data row3 col2\" >$1,114.06</td>\n",
       "                        <td id=\"T_7ce65b08_8d40_11e9_83df_d8c4979ea1dfrow3_col3\" class=\"data row3 col3\" >$4.32</td>\n",
       "            </tr>\n",
       "            <tr>\n",
       "                        <th id=\"T_7ce65b08_8d40_11e9_83df_d8c4979ea1dflevel0_row4\" class=\"row_heading level0 row4\" >25-29</th>\n",
       "                        <td id=\"T_7ce65b08_8d40_11e9_83df_d8c4979ea1dfrow4_col0\" class=\"data row4 col0\" >101</td>\n",
       "                        <td id=\"T_7ce65b08_8d40_11e9_83df_d8c4979ea1dfrow4_col1\" class=\"data row4 col1\" >$2.90</td>\n",
       "                        <td id=\"T_7ce65b08_8d40_11e9_83df_d8c4979ea1dfrow4_col2\" class=\"data row4 col2\" >$293.00</td>\n",
       "                        <td id=\"T_7ce65b08_8d40_11e9_83df_d8c4979ea1dfrow4_col3\" class=\"data row4 col3\" >$3.81</td>\n",
       "            </tr>\n",
       "            <tr>\n",
       "                        <th id=\"T_7ce65b08_8d40_11e9_83df_d8c4979ea1dflevel0_row5\" class=\"row_heading level0 row5\" >30-34</th>\n",
       "                        <td id=\"T_7ce65b08_8d40_11e9_83df_d8c4979ea1dfrow5_col0\" class=\"data row5 col0\" >73</td>\n",
       "                        <td id=\"T_7ce65b08_8d40_11e9_83df_d8c4979ea1dfrow5_col1\" class=\"data row5 col1\" >$2.93</td>\n",
       "                        <td id=\"T_7ce65b08_8d40_11e9_83df_d8c4979ea1dfrow5_col2\" class=\"data row5 col2\" >$214.00</td>\n",
       "                        <td id=\"T_7ce65b08_8d40_11e9_83df_d8c4979ea1dfrow5_col3\" class=\"data row5 col3\" >$4.12</td>\n",
       "            </tr>\n",
       "            <tr>\n",
       "                        <th id=\"T_7ce65b08_8d40_11e9_83df_d8c4979ea1dflevel0_row6\" class=\"row_heading level0 row6\" >35-39</th>\n",
       "                        <td id=\"T_7ce65b08_8d40_11e9_83df_d8c4979ea1dfrow6_col0\" class=\"data row6 col0\" >41</td>\n",
       "                        <td id=\"T_7ce65b08_8d40_11e9_83df_d8c4979ea1dfrow6_col1\" class=\"data row6 col1\" >$3.60</td>\n",
       "                        <td id=\"T_7ce65b08_8d40_11e9_83df_d8c4979ea1dfrow6_col2\" class=\"data row6 col2\" >$147.67</td>\n",
       "                        <td id=\"T_7ce65b08_8d40_11e9_83df_d8c4979ea1dfrow6_col3\" class=\"data row6 col3\" >$4.76</td>\n",
       "            </tr>\n",
       "            <tr>\n",
       "                        <th id=\"T_7ce65b08_8d40_11e9_83df_d8c4979ea1dflevel0_row7\" class=\"row_heading level0 row7\" >40+</th>\n",
       "                        <td id=\"T_7ce65b08_8d40_11e9_83df_d8c4979ea1dfrow7_col0\" class=\"data row7 col0\" >13</td>\n",
       "                        <td id=\"T_7ce65b08_8d40_11e9_83df_d8c4979ea1dfrow7_col1\" class=\"data row7 col1\" >$2.94</td>\n",
       "                        <td id=\"T_7ce65b08_8d40_11e9_83df_d8c4979ea1dfrow7_col2\" class=\"data row7 col2\" >$38.24</td>\n",
       "                        <td id=\"T_7ce65b08_8d40_11e9_83df_d8c4979ea1dfrow7_col3\" class=\"data row7 col3\" >$3.19</td>\n",
       "            </tr>\n",
       "    </tbody></table>"
      ],
      "text/plain": [
       "<pandas.io.formats.style.Styler at 0x1ce68def0b8>"
      ]
     },
     "execution_count": 7,
     "metadata": {},
     "output_type": "execute_result"
    }
   ],
   "source": [
    "#age & purchase demo, same bins as above\n",
    "#<10 bin is at bottom in example solutions\n",
    "\n",
    "purch_count_age = age_groupby[\"Purchase ID\"].count()\n",
    "purch_price_avg = age_groupby[\"Price\"].mean()\n",
    "purch_sales_age = age_groupby[\"Price\"].sum()\n",
    "\n",
    "purch_avg_age = purch_sales_age / age_count_net\n",
    "\n",
    "purch_age_df = pd.DataFrame({\"Purchase Count\": purch_count_age, \n",
    "                               \"Average Purchase Price\": purch_price_avg, \n",
    "                               \"Total Purchase Value\": purch_sales_age, \n",
    "                               \"Avg Total Purchase per Person\": purch_avg_age\n",
    "})\n",
    "\n",
    "#formatting\n",
    "purch_age_df.style.format({\"Average Purchase Price\": \"${:,.2f}\", \n",
    "                             \"Total Purchase Value\": \"${:,.2f}\", \n",
    "                             \"Avg Total Purchase per Person\": \"${:,.2f}\"\n",
    "})"
   ]
  },
  {
   "cell_type": "markdown",
   "metadata": {},
   "source": [
    "## Top Spenders"
   ]
  },
  {
   "cell_type": "markdown",
   "metadata": {},
   "source": [
    "* Run basic calculations to obtain the results in the table below\n",
    "\n",
    "\n",
    "* Create a summary data frame to hold the results\n",
    "\n",
    "\n",
    "* Sort the total purchase value column in descending order\n",
    "\n",
    "\n",
    "* Optional: give the displayed data cleaner formatting\n",
    "\n",
    "\n",
    "* Display a preview of the summary data frame\n",
    "\n"
   ]
  },
  {
   "cell_type": "code",
   "execution_count": 8,
   "metadata": {},
   "outputs": [
    {
     "data": {
      "text/html": [
       "<style  type=\"text/css\" >\n",
       "</style><table id=\"T_7e2004de_8d40_11e9_b1b5_d8c4979ea1df\" ><thead>    <tr>        <th class=\"blank level0\" ></th>        <th class=\"col_heading level0 col0\" >Purchase Count</th>        <th class=\"col_heading level0 col1\" >Average Purchase Price</th>        <th class=\"col_heading level0 col2\" >Total Purchase Value</th>    </tr>    <tr>        <th class=\"index_name level0\" >SN</th>        <th class=\"blank\" ></th>        <th class=\"blank\" ></th>        <th class=\"blank\" ></th>    </tr></thead><tbody>\n",
       "                <tr>\n",
       "                        <th id=\"T_7e2004de_8d40_11e9_b1b5_d8c4979ea1dflevel0_row0\" class=\"row_heading level0 row0\" >Lisosia93</th>\n",
       "                        <td id=\"T_7e2004de_8d40_11e9_b1b5_d8c4979ea1dfrow0_col0\" class=\"data row0 col0\" >5</td>\n",
       "                        <td id=\"T_7e2004de_8d40_11e9_b1b5_d8c4979ea1dfrow0_col1\" class=\"data row0 col1\" >$3.79</td>\n",
       "                        <td id=\"T_7e2004de_8d40_11e9_b1b5_d8c4979ea1dfrow0_col2\" class=\"data row0 col2\" >$18.96</td>\n",
       "            </tr>\n",
       "            <tr>\n",
       "                        <th id=\"T_7e2004de_8d40_11e9_b1b5_d8c4979ea1dflevel0_row1\" class=\"row_heading level0 row1\" >Idastidru52</th>\n",
       "                        <td id=\"T_7e2004de_8d40_11e9_b1b5_d8c4979ea1dfrow1_col0\" class=\"data row1 col0\" >4</td>\n",
       "                        <td id=\"T_7e2004de_8d40_11e9_b1b5_d8c4979ea1dfrow1_col1\" class=\"data row1 col1\" >$3.86</td>\n",
       "                        <td id=\"T_7e2004de_8d40_11e9_b1b5_d8c4979ea1dfrow1_col2\" class=\"data row1 col2\" >$15.45</td>\n",
       "            </tr>\n",
       "            <tr>\n",
       "                        <th id=\"T_7e2004de_8d40_11e9_b1b5_d8c4979ea1dflevel0_row2\" class=\"row_heading level0 row2\" >Chamjask73</th>\n",
       "                        <td id=\"T_7e2004de_8d40_11e9_b1b5_d8c4979ea1dfrow2_col0\" class=\"data row2 col0\" >3</td>\n",
       "                        <td id=\"T_7e2004de_8d40_11e9_b1b5_d8c4979ea1dfrow2_col1\" class=\"data row2 col1\" >$4.61</td>\n",
       "                        <td id=\"T_7e2004de_8d40_11e9_b1b5_d8c4979ea1dfrow2_col2\" class=\"data row2 col2\" >$13.83</td>\n",
       "            </tr>\n",
       "            <tr>\n",
       "                        <th id=\"T_7e2004de_8d40_11e9_b1b5_d8c4979ea1dflevel0_row3\" class=\"row_heading level0 row3\" >Iral74</th>\n",
       "                        <td id=\"T_7e2004de_8d40_11e9_b1b5_d8c4979ea1dfrow3_col0\" class=\"data row3 col0\" >4</td>\n",
       "                        <td id=\"T_7e2004de_8d40_11e9_b1b5_d8c4979ea1dfrow3_col1\" class=\"data row3 col1\" >$3.40</td>\n",
       "                        <td id=\"T_7e2004de_8d40_11e9_b1b5_d8c4979ea1dfrow3_col2\" class=\"data row3 col2\" >$13.62</td>\n",
       "            </tr>\n",
       "            <tr>\n",
       "                        <th id=\"T_7e2004de_8d40_11e9_b1b5_d8c4979ea1dflevel0_row4\" class=\"row_heading level0 row4\" >Iskadarya95</th>\n",
       "                        <td id=\"T_7e2004de_8d40_11e9_b1b5_d8c4979ea1dfrow4_col0\" class=\"data row4 col0\" >3</td>\n",
       "                        <td id=\"T_7e2004de_8d40_11e9_b1b5_d8c4979ea1dfrow4_col1\" class=\"data row4 col1\" >$4.37</td>\n",
       "                        <td id=\"T_7e2004de_8d40_11e9_b1b5_d8c4979ea1dfrow4_col2\" class=\"data row4 col2\" >$13.10</td>\n",
       "            </tr>\n",
       "    </tbody></table>"
      ],
      "text/plain": [
       "<pandas.io.formats.style.Styler at 0x1ce68def6d8>"
      ]
     },
     "execution_count": 8,
     "metadata": {},
     "output_type": "execute_result"
    }
   ],
   "source": [
    "spender_groupby = purchase_data.groupby(\"SN\")\n",
    "\n",
    "spender_purch_count = spender_groupby[\"Purchase ID\"].count()\n",
    "spender_purch_avg = spender_groupby[\"Price\"].mean()\n",
    "spender_purch_total = spender_groupby[\"Price\"].sum()\n",
    "\n",
    "spenders_top_df = pd.DataFrame({\"Purchase Count\": spender_purch_count, \n",
    "                                \"Average Purchase Price\": spender_purch_avg, \n",
    "                                \"Total Purchase Value\": spender_purch_total\n",
    "})\n",
    "\n",
    "#formatting\n",
    "spenders_top_df_clean = spenders_top_df.sort_values(by = \"Total Purchase Value\", ascending=False).head(5)\n",
    "\n",
    "spenders_top_df_clean.style.format({\"Average Purchase Price\": \"${:,.2f}\",\n",
    "                                    \"Total Purchase Value\": \"${:,.2f}\"\n",
    "\n",
    "})"
   ]
  },
  {
   "cell_type": "markdown",
   "metadata": {},
   "source": [
    "## Most Popular Items"
   ]
  },
  {
   "cell_type": "markdown",
   "metadata": {},
   "source": [
    "* Retrieve the Item ID, Item Name, and Item Price columns\n",
    "\n",
    "\n",
    "* Group by Item ID and Item Name. Perform calculations to obtain purchase count, item price, and total purchase value\n",
    "\n",
    "\n",
    "* Create a summary data frame to hold the results\n",
    "\n",
    "\n",
    "* Sort the purchase count column in descending order\n",
    "\n",
    "\n",
    "* Optional: give the displayed data cleaner formatting\n",
    "\n",
    "\n",
    "* Display a preview of the summary data frame\n",
    "\n"
   ]
  },
  {
   "cell_type": "code",
   "execution_count": 9,
   "metadata": {},
   "outputs": [
    {
     "data": {
      "text/html": [
       "<style  type=\"text/css\" >\n",
       "</style><table id=\"T_800b47d8_8d40_11e9_b3fe_d8c4979ea1df\" ><thead>    <tr>        <th class=\"blank\" ></th>        <th class=\"blank level0\" ></th>        <th class=\"col_heading level0 col0\" >Purchase Count</th>        <th class=\"col_heading level0 col1\" >Item Price</th>        <th class=\"col_heading level0 col2\" >Total Purchase Value</th>    </tr>    <tr>        <th class=\"index_name level0\" >Item ID</th>        <th class=\"index_name level1\" >Item Name</th>        <th class=\"blank\" ></th>        <th class=\"blank\" ></th>        <th class=\"blank\" ></th>    </tr></thead><tbody>\n",
       "                <tr>\n",
       "                        <th id=\"T_800b47d8_8d40_11e9_b3fe_d8c4979ea1dflevel0_row0\" class=\"row_heading level0 row0\" >178</th>\n",
       "                        <th id=\"T_800b47d8_8d40_11e9_b3fe_d8c4979ea1dflevel1_row0\" class=\"row_heading level1 row0\" >Oathbreaker, Last Hope of the Breaking Storm</th>\n",
       "                        <td id=\"T_800b47d8_8d40_11e9_b3fe_d8c4979ea1dfrow0_col0\" class=\"data row0 col0\" >12</td>\n",
       "                        <td id=\"T_800b47d8_8d40_11e9_b3fe_d8c4979ea1dfrow0_col1\" class=\"data row0 col1\" >$4.23</td>\n",
       "                        <td id=\"T_800b47d8_8d40_11e9_b3fe_d8c4979ea1dfrow0_col2\" class=\"data row0 col2\" >$50.76</td>\n",
       "            </tr>\n",
       "            <tr>\n",
       "                        <th id=\"T_800b47d8_8d40_11e9_b3fe_d8c4979ea1dflevel0_row1\" class=\"row_heading level0 row1\" >145</th>\n",
       "                        <th id=\"T_800b47d8_8d40_11e9_b3fe_d8c4979ea1dflevel1_row1\" class=\"row_heading level1 row1\" >Fiery Glass Crusader</th>\n",
       "                        <td id=\"T_800b47d8_8d40_11e9_b3fe_d8c4979ea1dfrow1_col0\" class=\"data row1 col0\" >9</td>\n",
       "                        <td id=\"T_800b47d8_8d40_11e9_b3fe_d8c4979ea1dfrow1_col1\" class=\"data row1 col1\" >$4.58</td>\n",
       "                        <td id=\"T_800b47d8_8d40_11e9_b3fe_d8c4979ea1dfrow1_col2\" class=\"data row1 col2\" >$41.22</td>\n",
       "            </tr>\n",
       "            <tr>\n",
       "                        <th id=\"T_800b47d8_8d40_11e9_b3fe_d8c4979ea1dflevel0_row2\" class=\"row_heading level0 row2\" >108</th>\n",
       "                        <th id=\"T_800b47d8_8d40_11e9_b3fe_d8c4979ea1dflevel1_row2\" class=\"row_heading level1 row2\" >Extraction, Quickblade Of Trembling Hands</th>\n",
       "                        <td id=\"T_800b47d8_8d40_11e9_b3fe_d8c4979ea1dfrow2_col0\" class=\"data row2 col0\" >9</td>\n",
       "                        <td id=\"T_800b47d8_8d40_11e9_b3fe_d8c4979ea1dfrow2_col1\" class=\"data row2 col1\" >$3.53</td>\n",
       "                        <td id=\"T_800b47d8_8d40_11e9_b3fe_d8c4979ea1dfrow2_col2\" class=\"data row2 col2\" >$31.77</td>\n",
       "            </tr>\n",
       "            <tr>\n",
       "                        <th id=\"T_800b47d8_8d40_11e9_b3fe_d8c4979ea1dflevel0_row3\" class=\"row_heading level0 row3\" >82</th>\n",
       "                        <th id=\"T_800b47d8_8d40_11e9_b3fe_d8c4979ea1dflevel1_row3\" class=\"row_heading level1 row3\" >Nirvana</th>\n",
       "                        <td id=\"T_800b47d8_8d40_11e9_b3fe_d8c4979ea1dfrow3_col0\" class=\"data row3 col0\" >9</td>\n",
       "                        <td id=\"T_800b47d8_8d40_11e9_b3fe_d8c4979ea1dfrow3_col1\" class=\"data row3 col1\" >$4.90</td>\n",
       "                        <td id=\"T_800b47d8_8d40_11e9_b3fe_d8c4979ea1dfrow3_col2\" class=\"data row3 col2\" >$44.10</td>\n",
       "            </tr>\n",
       "            <tr>\n",
       "                        <th id=\"T_800b47d8_8d40_11e9_b3fe_d8c4979ea1dflevel0_row4\" class=\"row_heading level0 row4\" >19</th>\n",
       "                        <th id=\"T_800b47d8_8d40_11e9_b3fe_d8c4979ea1dflevel1_row4\" class=\"row_heading level1 row4\" >Pursuit, Cudgel of Necromancy</th>\n",
       "                        <td id=\"T_800b47d8_8d40_11e9_b3fe_d8c4979ea1dfrow4_col0\" class=\"data row4 col0\" >8</td>\n",
       "                        <td id=\"T_800b47d8_8d40_11e9_b3fe_d8c4979ea1dfrow4_col1\" class=\"data row4 col1\" >$1.02</td>\n",
       "                        <td id=\"T_800b47d8_8d40_11e9_b3fe_d8c4979ea1dfrow4_col2\" class=\"data row4 col2\" >$8.16</td>\n",
       "            </tr>\n",
       "    </tbody></table>"
      ],
      "text/plain": [
       "<pandas.io.formats.style.Styler at 0x1ce68e07780>"
      ]
     },
     "execution_count": 9,
     "metadata": {},
     "output_type": "execute_result"
    }
   ],
   "source": [
    "#top 5 items\n",
    "\n",
    "item_data = purchase_data[[\"Item ID\", \n",
    "                           \"Item Name\", \n",
    "                           \"Price\"\n",
    "]]\n",
    "\n",
    "item_data_groupby = item_data.groupby([\"Item ID\", \n",
    "                                      \"Item Name\"\n",
    "])\n",
    "\n",
    "item_purch_count = item_data_groupby[\"Price\"].count()\n",
    "item_sales = item_data_groupby[\"Price\"].sum()\n",
    "item_price_avg = item_sales / item_purch_count\n",
    "\n",
    "item_data_df = pd.DataFrame({\"Purchase Count\": item_purch_count, \n",
    "                            \"Item Price\": item_price_avg,\n",
    "                            \"Total Purchase Value\":item_sales\n",
    "})\n",
    "\n",
    "#formatting\n",
    "item_data_df_clean = item_data_df.sort_values([\"Purchase Count\"], ascending=False).head(5)\n",
    "\n",
    "item_data_df_clean.style.format({\"Item Price\":\"${:,.2f}\",\n",
    "                                \"Total Purchase Value\":\"${:,.2f}\"\n",
    "})"
   ]
  },
  {
   "cell_type": "markdown",
   "metadata": {},
   "source": [
    "## Most Profitable Items"
   ]
  },
  {
   "cell_type": "markdown",
   "metadata": {},
   "source": [
    "* Sort the above table by total purchase value in descending order\n",
    "\n",
    "\n",
    "* Optional: give the displayed data cleaner formatting\n",
    "\n",
    "\n",
    "* Display a preview of the data frame\n"
   ]
  },
  {
   "cell_type": "code",
   "execution_count": 10,
   "metadata": {
    "scrolled": true
   },
   "outputs": [
    {
     "data": {
      "text/html": [
       "<style  type=\"text/css\" >\n",
       "</style><table id=\"T_82ad0b88_8d40_11e9_bd13_d8c4979ea1df\" ><thead>    <tr>        <th class=\"blank\" ></th>        <th class=\"blank level0\" ></th>        <th class=\"col_heading level0 col0\" >Purchase Count</th>        <th class=\"col_heading level0 col1\" >Item Price</th>        <th class=\"col_heading level0 col2\" >Total Purchase Value</th>    </tr>    <tr>        <th class=\"index_name level0\" >Item ID</th>        <th class=\"index_name level1\" >Item Name</th>        <th class=\"blank\" ></th>        <th class=\"blank\" ></th>        <th class=\"blank\" ></th>    </tr></thead><tbody>\n",
       "                <tr>\n",
       "                        <th id=\"T_82ad0b88_8d40_11e9_bd13_d8c4979ea1dflevel0_row0\" class=\"row_heading level0 row0\" >178</th>\n",
       "                        <th id=\"T_82ad0b88_8d40_11e9_bd13_d8c4979ea1dflevel1_row0\" class=\"row_heading level1 row0\" >Oathbreaker, Last Hope of the Breaking Storm</th>\n",
       "                        <td id=\"T_82ad0b88_8d40_11e9_bd13_d8c4979ea1dfrow0_col0\" class=\"data row0 col0\" >12</td>\n",
       "                        <td id=\"T_82ad0b88_8d40_11e9_bd13_d8c4979ea1dfrow0_col1\" class=\"data row0 col1\" >$4.23</td>\n",
       "                        <td id=\"T_82ad0b88_8d40_11e9_bd13_d8c4979ea1dfrow0_col2\" class=\"data row0 col2\" >$50.76</td>\n",
       "            </tr>\n",
       "            <tr>\n",
       "                        <th id=\"T_82ad0b88_8d40_11e9_bd13_d8c4979ea1dflevel0_row1\" class=\"row_heading level0 row1\" >82</th>\n",
       "                        <th id=\"T_82ad0b88_8d40_11e9_bd13_d8c4979ea1dflevel1_row1\" class=\"row_heading level1 row1\" >Nirvana</th>\n",
       "                        <td id=\"T_82ad0b88_8d40_11e9_bd13_d8c4979ea1dfrow1_col0\" class=\"data row1 col0\" >9</td>\n",
       "                        <td id=\"T_82ad0b88_8d40_11e9_bd13_d8c4979ea1dfrow1_col1\" class=\"data row1 col1\" >$4.90</td>\n",
       "                        <td id=\"T_82ad0b88_8d40_11e9_bd13_d8c4979ea1dfrow1_col2\" class=\"data row1 col2\" >$44.10</td>\n",
       "            </tr>\n",
       "            <tr>\n",
       "                        <th id=\"T_82ad0b88_8d40_11e9_bd13_d8c4979ea1dflevel0_row2\" class=\"row_heading level0 row2\" >145</th>\n",
       "                        <th id=\"T_82ad0b88_8d40_11e9_bd13_d8c4979ea1dflevel1_row2\" class=\"row_heading level1 row2\" >Fiery Glass Crusader</th>\n",
       "                        <td id=\"T_82ad0b88_8d40_11e9_bd13_d8c4979ea1dfrow2_col0\" class=\"data row2 col0\" >9</td>\n",
       "                        <td id=\"T_82ad0b88_8d40_11e9_bd13_d8c4979ea1dfrow2_col1\" class=\"data row2 col1\" >$4.58</td>\n",
       "                        <td id=\"T_82ad0b88_8d40_11e9_bd13_d8c4979ea1dfrow2_col2\" class=\"data row2 col2\" >$41.22</td>\n",
       "            </tr>\n",
       "            <tr>\n",
       "                        <th id=\"T_82ad0b88_8d40_11e9_bd13_d8c4979ea1dflevel0_row3\" class=\"row_heading level0 row3\" >92</th>\n",
       "                        <th id=\"T_82ad0b88_8d40_11e9_bd13_d8c4979ea1dflevel1_row3\" class=\"row_heading level1 row3\" >Final Critic</th>\n",
       "                        <td id=\"T_82ad0b88_8d40_11e9_bd13_d8c4979ea1dfrow3_col0\" class=\"data row3 col0\" >8</td>\n",
       "                        <td id=\"T_82ad0b88_8d40_11e9_bd13_d8c4979ea1dfrow3_col1\" class=\"data row3 col1\" >$4.88</td>\n",
       "                        <td id=\"T_82ad0b88_8d40_11e9_bd13_d8c4979ea1dfrow3_col2\" class=\"data row3 col2\" >$39.04</td>\n",
       "            </tr>\n",
       "            <tr>\n",
       "                        <th id=\"T_82ad0b88_8d40_11e9_bd13_d8c4979ea1dflevel0_row4\" class=\"row_heading level0 row4\" >103</th>\n",
       "                        <th id=\"T_82ad0b88_8d40_11e9_bd13_d8c4979ea1dflevel1_row4\" class=\"row_heading level1 row4\" >Singed Scalpel</th>\n",
       "                        <td id=\"T_82ad0b88_8d40_11e9_bd13_d8c4979ea1dfrow4_col0\" class=\"data row4 col0\" >8</td>\n",
       "                        <td id=\"T_82ad0b88_8d40_11e9_bd13_d8c4979ea1dfrow4_col1\" class=\"data row4 col1\" >$4.35</td>\n",
       "                        <td id=\"T_82ad0b88_8d40_11e9_bd13_d8c4979ea1dfrow4_col2\" class=\"data row4 col2\" >$34.80</td>\n",
       "            </tr>\n",
       "    </tbody></table>"
      ],
      "text/plain": [
       "<pandas.io.formats.style.Styler at 0x1ce68deff28>"
      ]
     },
     "execution_count": 10,
     "metadata": {},
     "output_type": "execute_result"
    }
   ],
   "source": [
    "#top 5 profit items\n",
    "\n",
    "item_data_profit = item_data_df\n",
    "item_data_profit_clean = item_data_profit.sort_values([\"Total Purchase Value\"],ascending=False).head(5)\n",
    "\n",
    "#formatting\n",
    "item_data_profit_clean.style.format({\"Item Price\":\"${:,.2f}\",\n",
    "                                    \"Total Purchase Value\":\"${:,.2f}\"\n",
    "})"
   ]
  },
  {
   "cell_type": "markdown",
   "metadata": {},
   "source": [
    "## 3 Observations"
   ]
  },
  {
   "cell_type": "markdown",
   "metadata": {},
   "source": [
    "1. Vasy majroity of players are males in the 20-24 age demographic. Future promotions and events should lean towards this demographic to maximize success. \n",
    "\n",
    "\n",
    "2. Oathbreaker is by far the most popular item with a base price that's higher than the average of $3.09. The effect(s)/bonus(es) from the item seem to be unique or imbalanced \n",
    "\n",
    "\n",
    "2. There are a few items with duplicate names at different price points. Adding something to differentiate the variations to avoid confusion. It'll also make adding additional tiers easier, e.g. Final Critic lv. 1, Final Critic lv. 2, etc."
   ]
  },
  {
   "cell_type": "code",
   "execution_count": null,
   "metadata": {},
   "outputs": [],
   "source": []
  }
 ],
 "metadata": {
  "anaconda-cloud": {},
  "kernel_info": {
   "name": "python3"
  },
  "kernelspec": {
   "display_name": "Python 3",
   "language": "python",
   "name": "python3"
  },
  "language_info": {
   "codemirror_mode": {
    "name": "ipython",
    "version": 3
   },
   "file_extension": ".py",
   "mimetype": "text/x-python",
   "name": "python",
   "nbconvert_exporter": "python",
   "pygments_lexer": "ipython3",
   "version": "3.7.3"
  },
  "nteract": {
   "version": "0.2.0"
  }
 },
 "nbformat": 4,
 "nbformat_minor": 2
}
